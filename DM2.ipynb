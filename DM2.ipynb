{
 "cells": [
  {
   "cell_type": "markdown",
   "id": "cb904811",
   "metadata": {},
   "source": [
    "# Wine Reviews数据处理  \n",
    "\n",
    "导入处理数据和绘图相关的包\n",
    "\n"
   ]
  },
  {
   "cell_type": "code",
   "execution_count": 1,
   "id": "a1e55345",
   "metadata": {},
   "outputs": [],
   "source": [
    "import pandas as pd\n",
    "import numpy as np\n",
    "import os\n",
    "import matplotlib.pyplot as plt\n",
    "from collections import Counter\n",
    "import seaborn as sns\n",
    "\n",
    "plt.rcParams[\"font.sans-serif\"]=[\"SimHei\"]\n",
    "plt.rcParams[\"axes.unicode_minus\"]=False"
   ]
  },
  {
   "cell_type": "markdown",
   "id": "ccee718e",
   "metadata": {},
   "source": [
    "读取数据并查看前几条数据,发现多出一列序号，删除\n",
    "\n"
   ]
  },
  {
   "cell_type": "code",
   "execution_count": 2,
   "id": "66b02268",
   "metadata": {},
   "outputs": [
    {
     "data": {
      "text/html": [
       "<div>\n",
       "<style scoped>\n",
       "    .dataframe tbody tr th:only-of-type {\n",
       "        vertical-align: middle;\n",
       "    }\n",
       "\n",
       "    .dataframe tbody tr th {\n",
       "        vertical-align: top;\n",
       "    }\n",
       "\n",
       "    .dataframe thead th {\n",
       "        text-align: right;\n",
       "    }\n",
       "</style>\n",
       "<table border=\"1\" class=\"dataframe\">\n",
       "  <thead>\n",
       "    <tr style=\"text-align: right;\">\n",
       "      <th></th>\n",
       "      <th>Unnamed: 0</th>\n",
       "      <th>country</th>\n",
       "      <th>description</th>\n",
       "      <th>designation</th>\n",
       "      <th>points</th>\n",
       "      <th>price</th>\n",
       "      <th>province</th>\n",
       "      <th>region_1</th>\n",
       "      <th>region_2</th>\n",
       "      <th>variety</th>\n",
       "      <th>winery</th>\n",
       "    </tr>\n",
       "  </thead>\n",
       "  <tbody>\n",
       "    <tr>\n",
       "      <th>0</th>\n",
       "      <td>0</td>\n",
       "      <td>US</td>\n",
       "      <td>This tremendous 100% varietal wine hails from ...</td>\n",
       "      <td>Martha's Vineyard</td>\n",
       "      <td>96</td>\n",
       "      <td>235.0</td>\n",
       "      <td>California</td>\n",
       "      <td>Napa Valley</td>\n",
       "      <td>Napa</td>\n",
       "      <td>Cabernet Sauvignon</td>\n",
       "      <td>Heitz</td>\n",
       "    </tr>\n",
       "    <tr>\n",
       "      <th>1</th>\n",
       "      <td>1</td>\n",
       "      <td>Spain</td>\n",
       "      <td>Ripe aromas of fig, blackberry and cassis are ...</td>\n",
       "      <td>Carodorum Selección Especial Reserva</td>\n",
       "      <td>96</td>\n",
       "      <td>110.0</td>\n",
       "      <td>Northern Spain</td>\n",
       "      <td>Toro</td>\n",
       "      <td>NaN</td>\n",
       "      <td>Tinta de Toro</td>\n",
       "      <td>Bodega Carmen Rodríguez</td>\n",
       "    </tr>\n",
       "    <tr>\n",
       "      <th>2</th>\n",
       "      <td>2</td>\n",
       "      <td>US</td>\n",
       "      <td>Mac Watson honors the memory of a wine once ma...</td>\n",
       "      <td>Special Selected Late Harvest</td>\n",
       "      <td>96</td>\n",
       "      <td>90.0</td>\n",
       "      <td>California</td>\n",
       "      <td>Knights Valley</td>\n",
       "      <td>Sonoma</td>\n",
       "      <td>Sauvignon Blanc</td>\n",
       "      <td>Macauley</td>\n",
       "    </tr>\n",
       "    <tr>\n",
       "      <th>3</th>\n",
       "      <td>3</td>\n",
       "      <td>US</td>\n",
       "      <td>This spent 20 months in 30% new French oak, an...</td>\n",
       "      <td>Reserve</td>\n",
       "      <td>96</td>\n",
       "      <td>65.0</td>\n",
       "      <td>Oregon</td>\n",
       "      <td>Willamette Valley</td>\n",
       "      <td>Willamette Valley</td>\n",
       "      <td>Pinot Noir</td>\n",
       "      <td>Ponzi</td>\n",
       "    </tr>\n",
       "    <tr>\n",
       "      <th>4</th>\n",
       "      <td>4</td>\n",
       "      <td>France</td>\n",
       "      <td>This is the top wine from La Bégude, named aft...</td>\n",
       "      <td>La Brûlade</td>\n",
       "      <td>95</td>\n",
       "      <td>66.0</td>\n",
       "      <td>Provence</td>\n",
       "      <td>Bandol</td>\n",
       "      <td>NaN</td>\n",
       "      <td>Provence red blend</td>\n",
       "      <td>Domaine de la Bégude</td>\n",
       "    </tr>\n",
       "  </tbody>\n",
       "</table>\n",
       "</div>"
      ],
      "text/plain": [
       "   Unnamed: 0 country                                        description  \\\n",
       "0           0      US  This tremendous 100% varietal wine hails from ...   \n",
       "1           1   Spain  Ripe aromas of fig, blackberry and cassis are ...   \n",
       "2           2      US  Mac Watson honors the memory of a wine once ma...   \n",
       "3           3      US  This spent 20 months in 30% new French oak, an...   \n",
       "4           4  France  This is the top wine from La Bégude, named aft...   \n",
       "\n",
       "                            designation  points  price        province  \\\n",
       "0                     Martha's Vineyard      96  235.0      California   \n",
       "1  Carodorum Selección Especial Reserva      96  110.0  Northern Spain   \n",
       "2         Special Selected Late Harvest      96   90.0      California   \n",
       "3                               Reserve      96   65.0          Oregon   \n",
       "4                            La Brûlade      95   66.0        Provence   \n",
       "\n",
       "            region_1           region_2             variety  \\\n",
       "0        Napa Valley               Napa  Cabernet Sauvignon   \n",
       "1               Toro                NaN       Tinta de Toro   \n",
       "2     Knights Valley             Sonoma     Sauvignon Blanc   \n",
       "3  Willamette Valley  Willamette Valley          Pinot Noir   \n",
       "4             Bandol                NaN  Provence red blend   \n",
       "\n",
       "                    winery  \n",
       "0                    Heitz  \n",
       "1  Bodega Carmen Rodríguez  \n",
       "2                 Macauley  \n",
       "3                    Ponzi  \n",
       "4     Domaine de la Bégude  "
      ]
     },
     "execution_count": 2,
     "metadata": {},
     "output_type": "execute_result"
    },
    {
     "data": {
      "text/html": [
       "<div>\n",
       "<style scoped>\n",
       "    .dataframe tbody tr th:only-of-type {\n",
       "        vertical-align: middle;\n",
       "    }\n",
       "\n",
       "    .dataframe tbody tr th {\n",
       "        vertical-align: top;\n",
       "    }\n",
       "\n",
       "    .dataframe thead th {\n",
       "        text-align: right;\n",
       "    }\n",
       "</style>\n",
       "<table border=\"1\" class=\"dataframe\">\n",
       "  <thead>\n",
       "    <tr style=\"text-align: right;\">\n",
       "      <th></th>\n",
       "      <th>Unnamed: 0</th>\n",
       "      <th>country</th>\n",
       "      <th>description</th>\n",
       "      <th>designation</th>\n",
       "      <th>points</th>\n",
       "      <th>price</th>\n",
       "      <th>province</th>\n",
       "      <th>region_1</th>\n",
       "      <th>region_2</th>\n",
       "      <th>variety</th>\n",
       "      <th>winery</th>\n",
       "    </tr>\n",
       "  </thead>\n",
       "  <tbody>\n",
       "    <tr>\n",
       "      <th>0</th>\n",
       "      <td>0</td>\n",
       "      <td>US</td>\n",
       "      <td>This tremendous 100% varietal wine hails from ...</td>\n",
       "      <td>Martha's Vineyard</td>\n",
       "      <td>96</td>\n",
       "      <td>235.0</td>\n",
       "      <td>California</td>\n",
       "      <td>Napa Valley</td>\n",
       "      <td>Napa</td>\n",
       "      <td>Cabernet Sauvignon</td>\n",
       "      <td>Heitz</td>\n",
       "    </tr>\n",
       "    <tr>\n",
       "      <th>1</th>\n",
       "      <td>1</td>\n",
       "      <td>Spain</td>\n",
       "      <td>Ripe aromas of fig, blackberry and cassis are ...</td>\n",
       "      <td>Carodorum Selección Especial Reserva</td>\n",
       "      <td>96</td>\n",
       "      <td>110.0</td>\n",
       "      <td>Northern Spain</td>\n",
       "      <td>Toro</td>\n",
       "      <td>NaN</td>\n",
       "      <td>Tinta de Toro</td>\n",
       "      <td>Bodega Carmen Rodríguez</td>\n",
       "    </tr>\n",
       "    <tr>\n",
       "      <th>2</th>\n",
       "      <td>2</td>\n",
       "      <td>US</td>\n",
       "      <td>Mac Watson honors the memory of a wine once ma...</td>\n",
       "      <td>Special Selected Late Harvest</td>\n",
       "      <td>96</td>\n",
       "      <td>90.0</td>\n",
       "      <td>California</td>\n",
       "      <td>Knights Valley</td>\n",
       "      <td>Sonoma</td>\n",
       "      <td>Sauvignon Blanc</td>\n",
       "      <td>Macauley</td>\n",
       "    </tr>\n",
       "    <tr>\n",
       "      <th>3</th>\n",
       "      <td>3</td>\n",
       "      <td>US</td>\n",
       "      <td>This spent 20 months in 30% new French oak, an...</td>\n",
       "      <td>Reserve</td>\n",
       "      <td>96</td>\n",
       "      <td>65.0</td>\n",
       "      <td>Oregon</td>\n",
       "      <td>Willamette Valley</td>\n",
       "      <td>Willamette Valley</td>\n",
       "      <td>Pinot Noir</td>\n",
       "      <td>Ponzi</td>\n",
       "    </tr>\n",
       "    <tr>\n",
       "      <th>4</th>\n",
       "      <td>4</td>\n",
       "      <td>France</td>\n",
       "      <td>This is the top wine from La Bégude, named aft...</td>\n",
       "      <td>La Brûlade</td>\n",
       "      <td>95</td>\n",
       "      <td>66.0</td>\n",
       "      <td>Provence</td>\n",
       "      <td>Bandol</td>\n",
       "      <td>NaN</td>\n",
       "      <td>Provence red blend</td>\n",
       "      <td>Domaine de la Bégude</td>\n",
       "    </tr>\n",
       "  </tbody>\n",
       "</table>\n",
       "</div>"
      ],
      "text/plain": [
       "   Unnamed: 0 country                                        description  \\\n",
       "0           0      US  This tremendous 100% varietal wine hails from ...   \n",
       "1           1   Spain  Ripe aromas of fig, blackberry and cassis are ...   \n",
       "2           2      US  Mac Watson honors the memory of a wine once ma...   \n",
       "3           3      US  This spent 20 months in 30% new French oak, an...   \n",
       "4           4  France  This is the top wine from La Bégude, named aft...   \n",
       "\n",
       "                            designation  points  price        province  \\\n",
       "0                     Martha's Vineyard      96  235.0      California   \n",
       "1  Carodorum Selección Especial Reserva      96  110.0  Northern Spain   \n",
       "2         Special Selected Late Harvest      96   90.0      California   \n",
       "3                               Reserve      96   65.0          Oregon   \n",
       "4                            La Brûlade      95   66.0        Provence   \n",
       "\n",
       "            region_1           region_2             variety  \\\n",
       "0        Napa Valley               Napa  Cabernet Sauvignon   \n",
       "1               Toro                NaN       Tinta de Toro   \n",
       "2     Knights Valley             Sonoma     Sauvignon Blanc   \n",
       "3  Willamette Valley  Willamette Valley          Pinot Noir   \n",
       "4             Bandol                NaN  Provence red blend   \n",
       "\n",
       "                    winery  \n",
       "0                    Heitz  \n",
       "1  Bodega Carmen Rodríguez  \n",
       "2                 Macauley  \n",
       "3                    Ponzi  \n",
       "4     Domaine de la Bégude  "
      ]
     },
     "execution_count": 2,
     "metadata": {},
     "output_type": "execute_result"
    }
   ],
   "source": [
    "df = pd.read_csv('winemag-data_first150k.csv')#.drop(0,axis=1)\n",
    "df.head()"
   ]
  },
  {
   "cell_type": "code",
   "execution_count": 3,
   "id": "be7b3c0c",
   "metadata": {},
   "outputs": [
    {
     "name": "stdout",
     "output_type": "stream",
     "text": [
      "Unnamed: 0\n",
      "Unnamed: 0\n"
     ]
    },
    {
     "data": {
      "text/html": [
       "<div>\n",
       "<style scoped>\n",
       "    .dataframe tbody tr th:only-of-type {\n",
       "        vertical-align: middle;\n",
       "    }\n",
       "\n",
       "    .dataframe tbody tr th {\n",
       "        vertical-align: top;\n",
       "    }\n",
       "\n",
       "    .dataframe thead th {\n",
       "        text-align: right;\n",
       "    }\n",
       "</style>\n",
       "<table border=\"1\" class=\"dataframe\">\n",
       "  <thead>\n",
       "    <tr style=\"text-align: right;\">\n",
       "      <th></th>\n",
       "      <th>country</th>\n",
       "      <th>description</th>\n",
       "      <th>designation</th>\n",
       "      <th>points</th>\n",
       "      <th>price</th>\n",
       "      <th>province</th>\n",
       "      <th>region_1</th>\n",
       "      <th>region_2</th>\n",
       "      <th>variety</th>\n",
       "      <th>winery</th>\n",
       "    </tr>\n",
       "  </thead>\n",
       "  <tbody>\n",
       "    <tr>\n",
       "      <th>0</th>\n",
       "      <td>US</td>\n",
       "      <td>This tremendous 100% varietal wine hails from ...</td>\n",
       "      <td>Martha's Vineyard</td>\n",
       "      <td>96</td>\n",
       "      <td>235.0</td>\n",
       "      <td>California</td>\n",
       "      <td>Napa Valley</td>\n",
       "      <td>Napa</td>\n",
       "      <td>Cabernet Sauvignon</td>\n",
       "      <td>Heitz</td>\n",
       "    </tr>\n",
       "    <tr>\n",
       "      <th>1</th>\n",
       "      <td>Spain</td>\n",
       "      <td>Ripe aromas of fig, blackberry and cassis are ...</td>\n",
       "      <td>Carodorum Selección Especial Reserva</td>\n",
       "      <td>96</td>\n",
       "      <td>110.0</td>\n",
       "      <td>Northern Spain</td>\n",
       "      <td>Toro</td>\n",
       "      <td>NaN</td>\n",
       "      <td>Tinta de Toro</td>\n",
       "      <td>Bodega Carmen Rodríguez</td>\n",
       "    </tr>\n",
       "    <tr>\n",
       "      <th>2</th>\n",
       "      <td>US</td>\n",
       "      <td>Mac Watson honors the memory of a wine once ma...</td>\n",
       "      <td>Special Selected Late Harvest</td>\n",
       "      <td>96</td>\n",
       "      <td>90.0</td>\n",
       "      <td>California</td>\n",
       "      <td>Knights Valley</td>\n",
       "      <td>Sonoma</td>\n",
       "      <td>Sauvignon Blanc</td>\n",
       "      <td>Macauley</td>\n",
       "    </tr>\n",
       "    <tr>\n",
       "      <th>3</th>\n",
       "      <td>US</td>\n",
       "      <td>This spent 20 months in 30% new French oak, an...</td>\n",
       "      <td>Reserve</td>\n",
       "      <td>96</td>\n",
       "      <td>65.0</td>\n",
       "      <td>Oregon</td>\n",
       "      <td>Willamette Valley</td>\n",
       "      <td>Willamette Valley</td>\n",
       "      <td>Pinot Noir</td>\n",
       "      <td>Ponzi</td>\n",
       "    </tr>\n",
       "    <tr>\n",
       "      <th>4</th>\n",
       "      <td>France</td>\n",
       "      <td>This is the top wine from La Bégude, named aft...</td>\n",
       "      <td>La Brûlade</td>\n",
       "      <td>95</td>\n",
       "      <td>66.0</td>\n",
       "      <td>Provence</td>\n",
       "      <td>Bandol</td>\n",
       "      <td>NaN</td>\n",
       "      <td>Provence red blend</td>\n",
       "      <td>Domaine de la Bégude</td>\n",
       "    </tr>\n",
       "  </tbody>\n",
       "</table>\n",
       "</div>"
      ],
      "text/plain": [
       "  country                                        description  \\\n",
       "0      US  This tremendous 100% varietal wine hails from ...   \n",
       "1   Spain  Ripe aromas of fig, blackberry and cassis are ...   \n",
       "2      US  Mac Watson honors the memory of a wine once ma...   \n",
       "3      US  This spent 20 months in 30% new French oak, an...   \n",
       "4  France  This is the top wine from La Bégude, named aft...   \n",
       "\n",
       "                            designation  points  price        province  \\\n",
       "0                     Martha's Vineyard      96  235.0      California   \n",
       "1  Carodorum Selección Especial Reserva      96  110.0  Northern Spain   \n",
       "2         Special Selected Late Harvest      96   90.0      California   \n",
       "3                               Reserve      96   65.0          Oregon   \n",
       "4                            La Brûlade      95   66.0        Provence   \n",
       "\n",
       "            region_1           region_2             variety  \\\n",
       "0        Napa Valley               Napa  Cabernet Sauvignon   \n",
       "1               Toro                NaN       Tinta de Toro   \n",
       "2     Knights Valley             Sonoma     Sauvignon Blanc   \n",
       "3  Willamette Valley  Willamette Valley          Pinot Noir   \n",
       "4             Bandol                NaN  Provence red blend   \n",
       "\n",
       "                    winery  \n",
       "0                    Heitz  \n",
       "1  Bodega Carmen Rodríguez  \n",
       "2                 Macauley  \n",
       "3                    Ponzi  \n",
       "4     Domaine de la Bégude  "
      ]
     },
     "execution_count": 3,
     "metadata": {},
     "output_type": "execute_result"
    },
    {
     "data": {
      "text/html": [
       "<div>\n",
       "<style scoped>\n",
       "    .dataframe tbody tr th:only-of-type {\n",
       "        vertical-align: middle;\n",
       "    }\n",
       "\n",
       "    .dataframe tbody tr th {\n",
       "        vertical-align: top;\n",
       "    }\n",
       "\n",
       "    .dataframe thead th {\n",
       "        text-align: right;\n",
       "    }\n",
       "</style>\n",
       "<table border=\"1\" class=\"dataframe\">\n",
       "  <thead>\n",
       "    <tr style=\"text-align: right;\">\n",
       "      <th></th>\n",
       "      <th>country</th>\n",
       "      <th>description</th>\n",
       "      <th>designation</th>\n",
       "      <th>points</th>\n",
       "      <th>price</th>\n",
       "      <th>province</th>\n",
       "      <th>region_1</th>\n",
       "      <th>region_2</th>\n",
       "      <th>variety</th>\n",
       "      <th>winery</th>\n",
       "    </tr>\n",
       "  </thead>\n",
       "  <tbody>\n",
       "    <tr>\n",
       "      <th>0</th>\n",
       "      <td>US</td>\n",
       "      <td>This tremendous 100% varietal wine hails from ...</td>\n",
       "      <td>Martha's Vineyard</td>\n",
       "      <td>96</td>\n",
       "      <td>235.0</td>\n",
       "      <td>California</td>\n",
       "      <td>Napa Valley</td>\n",
       "      <td>Napa</td>\n",
       "      <td>Cabernet Sauvignon</td>\n",
       "      <td>Heitz</td>\n",
       "    </tr>\n",
       "    <tr>\n",
       "      <th>1</th>\n",
       "      <td>Spain</td>\n",
       "      <td>Ripe aromas of fig, blackberry and cassis are ...</td>\n",
       "      <td>Carodorum Selección Especial Reserva</td>\n",
       "      <td>96</td>\n",
       "      <td>110.0</td>\n",
       "      <td>Northern Spain</td>\n",
       "      <td>Toro</td>\n",
       "      <td>NaN</td>\n",
       "      <td>Tinta de Toro</td>\n",
       "      <td>Bodega Carmen Rodríguez</td>\n",
       "    </tr>\n",
       "    <tr>\n",
       "      <th>2</th>\n",
       "      <td>US</td>\n",
       "      <td>Mac Watson honors the memory of a wine once ma...</td>\n",
       "      <td>Special Selected Late Harvest</td>\n",
       "      <td>96</td>\n",
       "      <td>90.0</td>\n",
       "      <td>California</td>\n",
       "      <td>Knights Valley</td>\n",
       "      <td>Sonoma</td>\n",
       "      <td>Sauvignon Blanc</td>\n",
       "      <td>Macauley</td>\n",
       "    </tr>\n",
       "    <tr>\n",
       "      <th>3</th>\n",
       "      <td>US</td>\n",
       "      <td>This spent 20 months in 30% new French oak, an...</td>\n",
       "      <td>Reserve</td>\n",
       "      <td>96</td>\n",
       "      <td>65.0</td>\n",
       "      <td>Oregon</td>\n",
       "      <td>Willamette Valley</td>\n",
       "      <td>Willamette Valley</td>\n",
       "      <td>Pinot Noir</td>\n",
       "      <td>Ponzi</td>\n",
       "    </tr>\n",
       "    <tr>\n",
       "      <th>4</th>\n",
       "      <td>France</td>\n",
       "      <td>This is the top wine from La Bégude, named aft...</td>\n",
       "      <td>La Brûlade</td>\n",
       "      <td>95</td>\n",
       "      <td>66.0</td>\n",
       "      <td>Provence</td>\n",
       "      <td>Bandol</td>\n",
       "      <td>NaN</td>\n",
       "      <td>Provence red blend</td>\n",
       "      <td>Domaine de la Bégude</td>\n",
       "    </tr>\n",
       "  </tbody>\n",
       "</table>\n",
       "</div>"
      ],
      "text/plain": [
       "  country                                        description  \\\n",
       "0      US  This tremendous 100% varietal wine hails from ...   \n",
       "1   Spain  Ripe aromas of fig, blackberry and cassis are ...   \n",
       "2      US  Mac Watson honors the memory of a wine once ma...   \n",
       "3      US  This spent 20 months in 30% new French oak, an...   \n",
       "4  France  This is the top wine from La Bégude, named aft...   \n",
       "\n",
       "                            designation  points  price        province  \\\n",
       "0                     Martha's Vineyard      96  235.0      California   \n",
       "1  Carodorum Selección Especial Reserva      96  110.0  Northern Spain   \n",
       "2         Special Selected Late Harvest      96   90.0      California   \n",
       "3                               Reserve      96   65.0          Oregon   \n",
       "4                            La Brûlade      95   66.0        Provence   \n",
       "\n",
       "            region_1           region_2             variety  \\\n",
       "0        Napa Valley               Napa  Cabernet Sauvignon   \n",
       "1               Toro                NaN       Tinta de Toro   \n",
       "2     Knights Valley             Sonoma     Sauvignon Blanc   \n",
       "3  Willamette Valley  Willamette Valley          Pinot Noir   \n",
       "4             Bandol                NaN  Provence red blend   \n",
       "\n",
       "                    winery  \n",
       "0                    Heitz  \n",
       "1  Bodega Carmen Rodríguez  \n",
       "2                 Macauley  \n",
       "3                    Ponzi  \n",
       "4     Domaine de la Bégude  "
      ]
     },
     "execution_count": 3,
     "metadata": {},
     "output_type": "execute_result"
    }
   ],
   "source": [
    "print(df.columns.values.tolist()[0])\n",
    "df = df.drop(df.columns.values.tolist()[0],axis=1)\n",
    "df.head()"
   ]
  },
  {
   "cell_type": "markdown",
   "id": "3ee14343",
   "metadata": {},
   "source": [
    "查看数据的总体信息\n",
    "\n"
   ]
  },
  {
   "cell_type": "code",
   "execution_count": 4,
   "id": "a9715b87",
   "metadata": {},
   "outputs": [
    {
     "name": "stdout",
     "output_type": "stream",
     "text": [
      "<class 'pandas.core.frame.DataFrame'>\n",
      "RangeIndex: 150930 entries, 0 to 150929\n",
      "Data columns (total 10 columns):\n",
      " #   Column       Non-Null Count   Dtype  \n",
      "---  ------       --------------   -----  \n",
      " 0   country      150925 non-null  object \n",
      " 1   description  150930 non-null  object \n",
      " 2   designation  105195 non-null  object \n",
      " 3   points       150930 non-null  int64  \n",
      " 4   price        137235 non-null  float64\n",
      " 5   province     150925 non-null  object \n",
      " 6   region_1     125870 non-null  object \n",
      " 7   region_2     60953 non-null   object \n",
      " 8   variety      150930 non-null  object \n",
      " 9   winery       150930 non-null  object \n",
      "dtypes: float64(1), int64(1), object(8)\n",
      "memory usage: 11.5+ MB\n",
      "<class 'pandas.core.frame.DataFrame'>\n",
      "RangeIndex: 150930 entries, 0 to 150929\n",
      "Data columns (total 10 columns):\n",
      " #   Column       Non-Null Count   Dtype  \n",
      "---  ------       --------------   -----  \n",
      " 0   country      150925 non-null  object \n",
      " 1   description  150930 non-null  object \n",
      " 2   designation  105195 non-null  object \n",
      " 3   points       150930 non-null  int64  \n",
      " 4   price        137235 non-null  float64\n",
      " 5   province     150925 non-null  object \n",
      " 6   region_1     125870 non-null  object \n",
      " 7   region_2     60953 non-null   object \n",
      " 8   variety      150930 non-null  object \n",
      " 9   winery       150930 non-null  object \n",
      "dtypes: float64(1), int64(1), object(8)\n",
      "memory usage: 11.5+ MB\n"
     ]
    }
   ],
   "source": [
    "df.info()"
   ]
  },
  {
   "cell_type": "markdown",
   "id": "7943f0ad",
   "metadata": {},
   "source": [
    "# 1.数据可视化和摘要  \n",
    "\n",
    "1.1数据摘要  \n",
    "\n",
    "遍历标称属性，输出频数，部分属性值过多，至多只输出频数前50的数据\n",
    "\n"
   ]
  },
  {
   "cell_type": "code",
   "execution_count": 5,
   "id": "c4ffa41d",
   "metadata": {},
   "outputs": [
    {
     "name": "stdout",
     "output_type": "stream",
     "text": [
      "country\n",
      " [('US', 62397), ('Italy', 23478), ('France', 21098), ('Spain', 8268), ('Chile', 5816), ('Argentina', 5631), ('Portugal', 5322), ('Australia', 4957), ('New Zealand', 3320), ('Austria', 3057), ('Germany', 2452), ('South Africa', 2258), ('Greece', 884), ('Israel', 630), ('Hungary', 231), ('Canada', 196), ('Romania', 139), ('Slovenia', 94), ('Uruguay', 92), ('Croatia', 89), ('Bulgaria', 77), ('Moldova', 71), ('Mexico', 63), ('Turkey', 52), ('Georgia', 43), ('Lebanon', 37), ('Cyprus', 31), ('Brazil', 25), ('Macedonia', 16), ('Serbia', 14), ('Morocco', 12), ('England', 9), ('Luxembourg', 9), ('India', 8), ('Lithuania', 8), ('Czech Republic', 6), ('nan', 5), ('Ukraine', 5), ('Switzerland', 4), ('Bosnia and Herzegovina', 4), ('South Korea', 4), ('China', 3), ('Slovakia', 3), ('Egypt', 3), ('Albania', 2), ('Japan', 2), ('Montenegro', 2), ('Tunisia', 2), ('US-France', 1)]\n",
      "country\n",
      " [('US', 62397), ('Italy', 23478), ('France', 21098), ('Spain', 8268), ('Chile', 5816), ('Argentina', 5631), ('Portugal', 5322), ('Australia', 4957), ('New Zealand', 3320), ('Austria', 3057), ('Germany', 2452), ('South Africa', 2258), ('Greece', 884), ('Israel', 630), ('Hungary', 231), ('Canada', 196), ('Romania', 139), ('Slovenia', 94), ('Uruguay', 92), ('Croatia', 89), ('Bulgaria', 77), ('Moldova', 71), ('Mexico', 63), ('Turkey', 52), ('Georgia', 43), ('Lebanon', 37), ('Cyprus', 31), ('Brazil', 25), ('Macedonia', 16), ('Serbia', 14), ('Morocco', 12), ('England', 9), ('Luxembourg', 9), ('India', 8), ('Lithuania', 8), ('Czech Republic', 6), ('nan', 5), ('Ukraine', 5), ('Switzerland', 4), ('Bosnia and Herzegovina', 4), ('South Korea', 4), ('China', 3), ('Slovakia', 3), ('Egypt', 3), ('Albania', 2), ('Japan', 2), ('Montenegro', 2), ('Tunisia', 2), ('US-France', 1)]\n",
      "designation\n",
      " [('nan', 45735), ('Reserve', 2752), ('Reserva', 1810), ('Estate', 1571), ('Barrel sample', 1326), ('Riserva', 754), ('Barrel Sample', 639), ('Brut', 624), ('Crianza', 503), ('Estate Grown', 449), ('Estate Bottled', 396), ('Dry', 374), ('Old Vine', 331), ('Gran Reserva', 330), ('Brut Rosé', 248), ('Extra Dry', 244), ('Vieilles Vignes', 225), ('Bien Nacido Vineyard', 195), ('Rosé', 180), ('Late Bottled Vintage', 171), ('Réserve', 166), ('Unoaked', 161), ('Late Harvest', 161), ('Vintage', 152), ('Barrel Select', 145), ('Single Vineyard', 144), ('Tradition', 141), ('Grand Reserve', 139), ('Tinto', 128), ('Old Vines', 127), ('Classic', 123), ('Estate Reserve', 121), ('Special Reserve', 105), ('Barrel Fermented', 103), ('Signature', 101), ('Kosher', 101), ('Private Reserve', 99), (\"Rosella's Vineyard\", 93), ('Red Wine', 92), ('Roble', 91), (\"Vintner's Reserve\", 88), (\"Proprietor's Reserve\", 87), ('Rosé of', 86), (\"Garys' Vineyard\", 84), ('Semi-Dry', 82), ('Ciel du Cheval Vineyard', 82), ('Stagecoach Vineyard', 81), ('Cuvée Prestige', 80), ('Trocken', 79), ('Limited Release', 79)]\n",
      "province\n",
      " [('California', 44508), ('Washington', 9750), ('Tuscany', 7281), ('Bordeaux', 6111), ('Northern Spain', 4892), ('Mendoza Province', 4742), ('Oregon', 4589), ('Burgundy', 4308), ('Piedmont', 4093), ('Veneto', 3962), ('South Australia', 3004), ('Sicily & Sardinia', 2545), ('New York', 2428), ('Northeastern Italy', 1982), ('Loire Valley', 1786), ('Alsace', 1680), ('Marlborough', 1655), ('Southwest France', 1601), ('Central Italy', 1530), ('Southern Italy', 1439), ('Champagne', 1370), ('Catalonia', 1352), ('Rhône Valley', 1318), ('Colchagua Valley', 1201), ('Languedoc-Roussillon', 1082), ('Douro', 1075), ('Provence', 1021), ('Port', 903), ('Maipo Valley', 895), ('Other', 889), ('Alentejano', 872), ('Mosel', 785), ('Casablanca Valley', 779), ('Burgenland', 764), ('Central Spain', 743), ('Stellenbosch', 691), ('Victoria', 613), ('Lombardy', 580), ('Australia Other', 553), ('Galicia', 548), ('Beaujolais', 532), ('Maule Valley', 531), ('Central Valley', 528), ('Mosel-Saar-Ruwer', 526), ('Western Cape', 516), ('Virginia', 515), ('Niederösterreich', 491), ('Western Australia', 491), ('Levante', 453), (\"Hawke's Bay\", 436)]\n",
      "designation\n",
      " [('nan', 45735), ('Reserve', 2752), ('Reserva', 1810), ('Estate', 1571), ('Barrel sample', 1326), ('Riserva', 754), ('Barrel Sample', 639), ('Brut', 624), ('Crianza', 503), ('Estate Grown', 449), ('Estate Bottled', 396), ('Dry', 374), ('Old Vine', 331), ('Gran Reserva', 330), ('Brut Rosé', 248), ('Extra Dry', 244), ('Vieilles Vignes', 225), ('Bien Nacido Vineyard', 195), ('Rosé', 180), ('Late Bottled Vintage', 171), ('Réserve', 166), ('Unoaked', 161), ('Late Harvest', 161), ('Vintage', 152), ('Barrel Select', 145), ('Single Vineyard', 144), ('Tradition', 141), ('Grand Reserve', 139), ('Tinto', 128), ('Old Vines', 127), ('Classic', 123), ('Estate Reserve', 121), ('Special Reserve', 105), ('Barrel Fermented', 103), ('Signature', 101), ('Kosher', 101), ('Private Reserve', 99), (\"Rosella's Vineyard\", 93), ('Red Wine', 92), ('Roble', 91), (\"Vintner's Reserve\", 88), (\"Proprietor's Reserve\", 87), ('Rosé of', 86), (\"Garys' Vineyard\", 84), ('Semi-Dry', 82), ('Ciel du Cheval Vineyard', 82), ('Stagecoach Vineyard', 81), ('Cuvée Prestige', 80), ('Trocken', 79), ('Limited Release', 79)]\n",
      "province\n",
      " [('California', 44508), ('Washington', 9750), ('Tuscany', 7281), ('Bordeaux', 6111), ('Northern Spain', 4892), ('Mendoza Province', 4742), ('Oregon', 4589), ('Burgundy', 4308), ('Piedmont', 4093), ('Veneto', 3962), ('South Australia', 3004), ('Sicily & Sardinia', 2545), ('New York', 2428), ('Northeastern Italy', 1982), ('Loire Valley', 1786), ('Alsace', 1680), ('Marlborough', 1655), ('Southwest France', 1601), ('Central Italy', 1530), ('Southern Italy', 1439), ('Champagne', 1370), ('Catalonia', 1352), ('Rhône Valley', 1318), ('Colchagua Valley', 1201), ('Languedoc-Roussillon', 1082), ('Douro', 1075), ('Provence', 1021), ('Port', 903), ('Maipo Valley', 895), ('Other', 889), ('Alentejano', 872), ('Mosel', 785), ('Casablanca Valley', 779), ('Burgenland', 764), ('Central Spain', 743), ('Stellenbosch', 691), ('Victoria', 613), ('Lombardy', 580), ('Australia Other', 553), ('Galicia', 548), ('Beaujolais', 532), ('Maule Valley', 531), ('Central Valley', 528), ('Mosel-Saar-Ruwer', 526), ('Western Cape', 516), ('Virginia', 515), ('Niederösterreich', 491), ('Western Australia', 491), ('Levante', 453), (\"Hawke's Bay\", 436)]\n",
      "region_1\n",
      " [('nan', 25060), ('Napa Valley', 6209), ('Columbia Valley (WA)', 4975), ('Mendoza', 3586), ('Russian River Valley', 3571), ('California', 3462), ('Paso Robles', 3053), ('Willamette Valley', 2096), ('Rioja', 1893), ('Toscana', 1885), ('Sonoma County', 1853), ('Brunello di Montalcino', 1746), ('Sicilia', 1701), ('Alsace', 1574), ('Sonoma Coast', 1473), ('Carneros', 1458), ('Barolo', 1398), ('Dry Creek Valley', 1398), ('Finger Lakes', 1372), ('Champagne', 1369), ('Santa Barbara County', 1319), ('Walla Walla Valley (WA)', 1225), ('Yakima Valley', 1162), ('Alexander Valley', 1139), ('Chianti Classico', 1029), ('Sta. Rita Hills', 983), ('Sonoma Valley', 971), ('Santa Lucia Highlands', 962), ('Central Coast', 950), ('Ribera del Duero', 899), ('Santa Ynez Valley', 898), ('Lodi', 874), ('Saint-Émilion', 836), ('Santa Maria Valley', 826), ('Côtes de Provence', 696), ('Chablis', 694), ('McLaren Vale', 673), ('Anderson Valley', 664), ('Amarone della Valpolicella Classico', 661), ('North Fork of Long Island', 642), ('Red Mountain', 640), ('Cava', 604), ('Edna Valley', 600), ('Cahors', 583), ('Rutherford', 578), ('Monterey', 562), ('Horse Heaven Hills', 558), ('Sancerre', 543), ('Barbaresco', 540), ('Washington', 528)]\n",
      "region_1\n",
      " [('nan', 25060), ('Napa Valley', 6209), ('Columbia Valley (WA)', 4975), ('Mendoza', 3586), ('Russian River Valley', 3571), ('California', 3462), ('Paso Robles', 3053), ('Willamette Valley', 2096), ('Rioja', 1893), ('Toscana', 1885), ('Sonoma County', 1853), ('Brunello di Montalcino', 1746), ('Sicilia', 1701), ('Alsace', 1574), ('Sonoma Coast', 1473), ('Carneros', 1458), ('Barolo', 1398), ('Dry Creek Valley', 1398), ('Finger Lakes', 1372), ('Champagne', 1369), ('Santa Barbara County', 1319), ('Walla Walla Valley (WA)', 1225), ('Yakima Valley', 1162), ('Alexander Valley', 1139), ('Chianti Classico', 1029), ('Sta. Rita Hills', 983), ('Sonoma Valley', 971), ('Santa Lucia Highlands', 962), ('Central Coast', 950), ('Ribera del Duero', 899), ('Santa Ynez Valley', 898), ('Lodi', 874), ('Saint-Émilion', 836), ('Santa Maria Valley', 826), ('Côtes de Provence', 696), ('Chablis', 694), ('McLaren Vale', 673), ('Anderson Valley', 664), ('Amarone della Valpolicella Classico', 661), ('North Fork of Long Island', 642), ('Red Mountain', 640), ('Cava', 604), ('Edna Valley', 600), ('Cahors', 583), ('Rutherford', 578), ('Monterey', 562), ('Horse Heaven Hills', 558), ('Sancerre', 543), ('Barbaresco', 540), ('Washington', 528)]\n"
     ]
    },
    {
     "name": "stdout",
     "output_type": "stream",
     "text": [
      "region_2\n",
      " [('nan', 89977), ('Central Coast', 13057), ('Sonoma', 11258), ('Columbia Valley', 9157), ('Napa', 8801), ('California Other', 3516), ('Willamette Valley', 3181), ('Mendocino/Lake Counties', 2389), ('Sierra Foothills', 1660), ('Napa-Sonoma', 1645), ('Finger Lakes', 1510), ('Central Valley', 1115), ('Long Island', 771), ('Southern Oregon', 662), ('Oregon Other', 661), ('North Coast', 632), ('Washington Other', 593), ('South Coast', 198), ('New York Other', 147)]\n",
      "variety\n",
      " [('Chardonnay', 14482), ('Pinot Noir', 14291), ('Cabernet Sauvignon', 12800), ('Red Blend', 10062), ('Bordeaux-style Red Blend', 7347), ('Sauvignon Blanc', 6320), ('Syrah', 5825), ('Riesling', 5524), ('Merlot', 5070), ('Zinfandel', 3799), ('Sangiovese', 3345), ('Malbec', 3208), ('White Blend', 2824), ('Rosé', 2817), ('Tempranillo', 2556), ('Nebbiolo', 2241), ('Portuguese Red', 2216), ('Sparkling Blend', 2004), ('Shiraz', 1970), ('Corvina, Rondinella, Molinara', 1682), ('Rhône-style Red Blend', 1505), ('Pinot Gris', 1365), ('Barbera', 1365), ('Cabernet Franc', 1363), ('Sangiovese Grosso', 1346), ('Pinot Grigio', 1305), ('Viognier', 1263), ('Bordeaux-style White Blend', 1261), ('Champagne Blend', 1238), ('Port', 1058), ('Grüner Veltliner', 1042), ('Gewürztraminer', 982), ('Portuguese White', 941), ('Petite Sirah', 897), ('Carmenère', 761), ('Tempranillo Blend', 756), ('Chenin Blanc', 746), ('Glera', 622), ('Grenache', 603), ('Prosecco', 594), ('Albariño', 537), ('Gamay', 535), ('Pinot Blanc', 470), (\"Nero d'Avola\", 458), ('Moscato', 430), ('Rhône-style White Blend', 409), ('Garganega', 402), ('Garnacha', 401), ('Torrontés', 367), ('Dolcetto', 358)]\n",
      "region_2\n",
      " [('nan', 89977), ('Central Coast', 13057), ('Sonoma', 11258), ('Columbia Valley', 9157), ('Napa', 8801), ('California Other', 3516), ('Willamette Valley', 3181), ('Mendocino/Lake Counties', 2389), ('Sierra Foothills', 1660), ('Napa-Sonoma', 1645), ('Finger Lakes', 1510), ('Central Valley', 1115), ('Long Island', 771), ('Southern Oregon', 662), ('Oregon Other', 661), ('North Coast', 632), ('Washington Other', 593), ('South Coast', 198), ('New York Other', 147)]\n",
      "variety\n",
      " [('Chardonnay', 14482), ('Pinot Noir', 14291), ('Cabernet Sauvignon', 12800), ('Red Blend', 10062), ('Bordeaux-style Red Blend', 7347), ('Sauvignon Blanc', 6320), ('Syrah', 5825), ('Riesling', 5524), ('Merlot', 5070), ('Zinfandel', 3799), ('Sangiovese', 3345), ('Malbec', 3208), ('White Blend', 2824), ('Rosé', 2817), ('Tempranillo', 2556), ('Nebbiolo', 2241), ('Portuguese Red', 2216), ('Sparkling Blend', 2004), ('Shiraz', 1970), ('Corvina, Rondinella, Molinara', 1682), ('Rhône-style Red Blend', 1505), ('Pinot Gris', 1365), ('Barbera', 1365), ('Cabernet Franc', 1363), ('Sangiovese Grosso', 1346), ('Pinot Grigio', 1305), ('Viognier', 1263), ('Bordeaux-style White Blend', 1261), ('Champagne Blend', 1238), ('Port', 1058), ('Grüner Veltliner', 1042), ('Gewürztraminer', 982), ('Portuguese White', 941), ('Petite Sirah', 897), ('Carmenère', 761), ('Tempranillo Blend', 756), ('Chenin Blanc', 746), ('Glera', 622), ('Grenache', 603), ('Prosecco', 594), ('Albariño', 537), ('Gamay', 535), ('Pinot Blanc', 470), (\"Nero d'Avola\", 458), ('Moscato', 430), ('Rhône-style White Blend', 409), ('Garganega', 402), ('Garnacha', 401), ('Torrontés', 367), ('Dolcetto', 358)]\n",
      "winery\n",
      " [('Williams Selyem', 374), ('Testarossa', 274), ('DFJ Vinhos', 258), ('Chateau Ste. Michelle', 225), ('Columbia Crest', 217), ('Concha y Toro', 216), ('Kendall-Jackson', 216), ('Trapiche', 205), ('Bouchard Père & Fils', 203), ('Kenwood', 191), ('De Loach', 189), ('Joseph Drouhin', 189), ('Georges Duboeuf', 188), ('Cameron Hughes', 172), ('Wines & Winemakers', 169), ('Albert Bichot', 167), ('Robert Mondavi', 166), ('Louis Latour', 154), ('Dry Creek Vineyard', 153), (\"D'Arenberg\", 153), ('Morgan', 153), ('Concannon', 151), ('Martin Ray', 149), ('Errazuriz', 148), ('Gary Farrell', 144), (\"L'Ecole No. 41\", 144), ('Olivier Leflaive', 143), ('Waterbrook', 142), ('Montes', 142), ('Iron Horse', 142), ('Renwood', 141), ('Santa Rita', 141), ('Calera', 140), ('Yalumba', 139), ('Hogue', 139), ('Santa Ema', 137), ('Sineann', 137), ('Bodega Norton', 137), ('Seven Hills', 130), ('Rodney Strong', 128), ('Wellington', 127), ('Planeta', 126), ('Dão Sul', 126), ('Novy', 124), ('Viu Manent', 123), ('Adelaida', 122), ('Louis Jadot', 122), ('Bründlmayer', 121), ('Thomas Fogarty', 121), ('Saint Clair', 121)]\n",
      "winery\n",
      " [('Williams Selyem', 374), ('Testarossa', 274), ('DFJ Vinhos', 258), ('Chateau Ste. Michelle', 225), ('Columbia Crest', 217), ('Concha y Toro', 216), ('Kendall-Jackson', 216), ('Trapiche', 205), ('Bouchard Père & Fils', 203), ('Kenwood', 191), ('De Loach', 189), ('Joseph Drouhin', 189), ('Georges Duboeuf', 188), ('Cameron Hughes', 172), ('Wines & Winemakers', 169), ('Albert Bichot', 167), ('Robert Mondavi', 166), ('Louis Latour', 154), ('Dry Creek Vineyard', 153), (\"D'Arenberg\", 153), ('Morgan', 153), ('Concannon', 151), ('Martin Ray', 149), ('Errazuriz', 148), ('Gary Farrell', 144), (\"L'Ecole No. 41\", 144), ('Olivier Leflaive', 143), ('Waterbrook', 142), ('Montes', 142), ('Iron Horse', 142), ('Renwood', 141), ('Santa Rita', 141), ('Calera', 140), ('Yalumba', 139), ('Hogue', 139), ('Santa Ema', 137), ('Sineann', 137), ('Bodega Norton', 137), ('Seven Hills', 130), ('Rodney Strong', 128), ('Wellington', 127), ('Planeta', 126), ('Dão Sul', 126), ('Novy', 124), ('Viu Manent', 123), ('Adelaida', 122), ('Louis Jadot', 122), ('Bründlmayer', 121), ('Thomas Fogarty', 121), ('Saint Clair', 121)]\n"
     ]
    }
   ],
   "source": [
    "def count(attribute,df):\n",
    "    values = df[attribute]\n",
    "    dic = {}\n",
    "    for index,v in enumerate(values):\n",
    "        if type(v)==str or not np.isnan(v):\n",
    "            dic[v] = dic.get(v,0) + 1\n",
    "        else:\n",
    "            dic['nan'] = dic.get('nan',0) + 1 \n",
    "    return dic\n",
    "\n",
    "for attribute in ['country','designation','province','region_1','region_2','variety','winery']:\n",
    "    dic = count(attribute,df)\n",
    "    print('%s\\n'%(attribute),Counter(dic).most_common(50)) "
   ]
  },
  {
   "cell_type": "markdown",
   "id": "507890f2",
   "metadata": {},
   "source": [
    "对数值属性进行五数概括，并统计缺失值数量"
   ]
  },
  {
   "cell_type": "code",
   "execution_count": 6,
   "id": "bd40891f",
   "metadata": {},
   "outputs": [
    {
     "name": "stdout",
     "output_type": "stream",
     "text": [
      "count    150930.000000\n",
      "mean         87.888418\n",
      "std           3.222392\n",
      "min          80.000000\n",
      "25%          86.000000\n",
      "50%          88.000000\n",
      "75%          90.000000\n",
      "max         100.000000\n",
      "Name: points, dtype: float64\n",
      "缺失值的个数：0\n",
      "\n",
      "count    137235.000000\n",
      "mean         33.131482\n",
      "std          36.322536\n",
      "min           4.000000\n",
      "25%          16.000000\n",
      "50%          24.000000\n",
      "75%          40.000000\n",
      "max        2300.000000\n",
      "Name: price, dtype: float64\n",
      "缺失值的个数：13695\n",
      "\n",
      "count    150930.000000\n",
      "mean         87.888418\n",
      "std           3.222392\n",
      "min          80.000000\n",
      "25%          86.000000\n",
      "50%          88.000000\n",
      "75%          90.000000\n",
      "max         100.000000\n",
      "Name: points, dtype: float64\n",
      "缺失值的个数：0\n",
      "\n",
      "count    137235.000000\n",
      "mean         33.131482\n",
      "std          36.322536\n",
      "min           4.000000\n",
      "25%          16.000000\n",
      "50%          24.000000\n",
      "75%          40.000000\n",
      "max        2300.000000\n",
      "Name: price, dtype: float64\n",
      "缺失值的个数：13695\n",
      "\n"
     ]
    }
   ],
   "source": [
    "def describe(attribute,df):\n",
    "    values = df[attribute]\n",
    "    print(values.describe())\n",
    "\n",
    "for attribute in ['points','price']:\n",
    "    describe(attribute,df)\n",
    "    print('缺失值的个数：%d\\n'% df[attribute].isnull().sum())"
   ]
  },
  {
   "cell_type": "markdown",
   "id": "e7d736a2",
   "metadata": {},
   "source": [
    "1.2数据可视化  \n",
    "\n",
    "对数值属性绘制直方图和盒图"
   ]
  },
  {
   "cell_type": "code",
   "execution_count": 7,
   "id": "e023e57e",
   "metadata": {},
   "outputs": [
    {
     "name": "stderr",
     "output_type": "stream",
     "text": [
      "C:\\Users\\HZJ\\anaconda3\\envs\\hzj\\lib\\site-packages\\seaborn\\_decorators.py:36: FutureWarning: Pass the following variable as a keyword arg: x. From version 0.12, the only valid positional argument will be `data`, and passing other arguments without an explicit keyword will result in an error or misinterpretation.\n",
      "  warnings.warn(\n",
      "C:\\Users\\HZJ\\anaconda3\\envs\\hzj\\lib\\site-packages\\seaborn\\_decorators.py:36: FutureWarning: Pass the following variable as a keyword arg: x. From version 0.12, the only valid positional argument will be `data`, and passing other arguments without an explicit keyword will result in an error or misinterpretation.\n",
      "  warnings.warn(\n"
     ]
    },
    {
     "data": {
      "image/png": "[encoded data removed]",
      "text/plain": [
       "<Figure size 432x288 with 1 Axes>"
      ]
     },
     "metadata": {
      "image/png": {
       "height": 266,
       "width": 406
      }
     },
     "output_type": "display_data"
    },
    {
     "data": {
      "image/png": "[encoded data removed]",
      "text/plain": [
       "<Figure size 432x288 with 1 Axes>"
      ]
     },
     "metadata": {
      "image/png": {
       "height": 266,
       "width": 406
      }
     },
     "output_type": "display_data"
    },
    {
     "name": "stderr",
     "output_type": "stream",
     "text": [
      "C:\\Users\\HZJ\\anaconda3\\envs\\hzj\\lib\\site-packages\\seaborn\\_decorators.py:36: FutureWarning: Pass the following variable as a keyword arg: x. From version 0.12, the only valid positional argument will be `data`, and passing other arguments without an explicit keyword will result in an error or misinterpretation.\n",
      "  warnings.warn(\n",
      "C:\\Users\\HZJ\\anaconda3\\envs\\hzj\\lib\\site-packages\\seaborn\\_decorators.py:36: FutureWarning: Pass the following variable as a keyword arg: x. From version 0.12, the only valid positional argument will be `data`, and passing other arguments without an explicit keyword will result in an error or misinterpretation.\n",
      "  warnings.warn(\n"
     ]
    },
    {
     "data": {
      "image/png": "[encoded data removed]",
      "text/plain": [
       "<Figure size 432x288 with 1 Axes>"
      ]
     },
     "metadata": {
      "image/png": {
       "height": 266,
       "width": 415
      }
     },
     "output_type": "display_data"
    },
    {
     "data": {
      "image/png": "[encoded data removed]",
      "text/plain": [
       "<Figure size 432x288 with 1 Axes>"
      ]
     },
     "metadata": {
      "image/png": {
       "height": 266,
       "width": 415
      }
     },
     "output_type": "display_data"
    }
   ],
   "source": [
    "%config InlineBackend.figure_format='retina'\n",
    "sns.set()\n",
    "for attribute in ['points','price']:\n",
    "    sns.countplot(df[attribute])\n",
    "    plt.show()"
   ]
  },
  {
   "cell_type": "markdown",
   "id": "a6dc0d28",
   "metadata": {},
   "source": [
    "盒线图"
   ]
  },
  {
   "cell_type": "code",
   "execution_count": 8,
   "id": "ee1031b7",
   "metadata": {},
   "outputs": [
    {
     "data": {
      "image/png": "[encoded data removed]",
      "text/plain": [
       "<Figure size 432x288 with 1 Axes>"
      ]
     },
     "metadata": {
      "image/png": {
       "height": 266,
       "width": 386
      }
     },
     "output_type": "display_data"
    },
    {
     "data": {
      "image/png": "[encoded data removed]",
      "text/plain": [
       "<Figure size 432x288 with 1 Axes>"
      ]
     },
     "metadata": {
      "image/png": {
       "height": 266,
       "width": 386
      }
     },
     "output_type": "display_data"
    },
    {
     "data": {
      "image/png": "[encoded data removed]",
      "text/plain": [
       "<Figure size 432x288 with 1 Axes>"
      ]
     },
     "metadata": {
      "image/png": {
       "height": 266,
       "width": 383
      }
     },
     "output_type": "display_data"
    },
    {
     "data": {
      "image/png": "[encoded data removed]",
      "text/plain": [
       "<Figure size 432x288 with 1 Axes>"
      ]
     },
     "metadata": {
      "image/png": {
       "height": 266,
       "width": 383
      }
     },
     "output_type": "display_data"
    }
   ],
   "source": [
    "def draw_Box_plot(data,title=None):\n",
    "    plt.boxplot(data)\n",
    "    plt.title(title)\n",
    "    plt.show()\n",
    "for attribute in ['points','price']:\n",
    "    draw_Box_plot(df[attribute].dropna(),title=attribute)"
   ]
  },
  {
   "cell_type": "markdown",
   "id": "1ab8cb52",
   "metadata": {},
   "source": [
    "# 2.数据缺失的处理  \n",
    "\n",
    "2.1剔除缺失部分  \n",
    "\n",
    "对于country为空的数据，将之删去\n"
   ]
  },
  {
   "cell_type": "code",
   "execution_count": 9,
   "id": "9aee3061",
   "metadata": {},
   "outputs": [
    {
     "name": "stdout",
     "output_type": "stream",
     "text": [
      "<class 'pandas.core.frame.DataFrame'>\n",
      "Int64Index: 150925 entries, 0 to 150929\n",
      "Data columns (total 10 columns):\n",
      " #   Column       Non-Null Count   Dtype  \n",
      "---  ------       --------------   -----  \n",
      " 0   country      150925 non-null  object \n",
      " 1   description  150925 non-null  object \n",
      " 2   designation  105190 non-null  object \n",
      " 3   points       150925 non-null  int64  \n",
      " 4   price        137230 non-null  float64\n",
      " 5   province     150925 non-null  object \n",
      " 6   region_1     125870 non-null  object \n",
      " 7   region_2     60953 non-null   object \n",
      " 8   variety      150925 non-null  object \n",
      " 9   winery       150925 non-null  object \n",
      "dtypes: float64(1), int64(1), object(8)\n",
      "memory usage: 12.7+ MB\n",
      "<class 'pandas.core.frame.DataFrame'>\n",
      "Int64Index: 150925 entries, 0 to 150929\n",
      "Data columns (total 10 columns):\n",
      " #   Column       Non-Null Count   Dtype  \n",
      "---  ------       --------------   -----  \n",
      " 0   country      150925 non-null  object \n",
      " 1   description  150925 non-null  object \n",
      " 2   designation  105190 non-null  object \n",
      " 3   points       150925 non-null  int64  \n",
      " 4   price        137230 non-null  float64\n",
      " 5   province     150925 non-null  object \n",
      " 6   region_1     125870 non-null  object \n",
      " 7   region_2     60953 non-null   object \n",
      " 8   variety      150925 non-null  object \n",
      " 9   winery       150925 non-null  object \n",
      "dtypes: float64(1), int64(1), object(8)\n",
      "memory usage: 12.7+ MB\n"
     ]
    }
   ],
   "source": [
    "df2 = df.copy()\n",
    "df2 = df2.dropna(subset=['country'])\n",
    "df2.info()"
   ]
  },
  {
   "cell_type": "markdown",
   "id": "2380914f",
   "metadata": {},
   "source": [
    "2.2用最高频率值填补缺失值  \n",
    "\n",
    "对于designation，采用最高频率值进行填充"
   ]
  },
  {
   "cell_type": "code",
   "execution_count": 10,
   "id": "821e23f7",
   "metadata": {},
   "outputs": [
    {
     "name": "stdout",
     "output_type": "stream",
     "text": [
      "<class 'pandas.core.frame.DataFrame'>\n",
      "Int64Index: 150925 entries, 0 to 150929\n",
      "Data columns (total 10 columns):\n",
      " #   Column       Non-Null Count   Dtype  \n",
      "---  ------       --------------   -----  \n",
      " 0   country      150925 non-null  object \n",
      " 1   description  150925 non-null  object \n",
      " 2   designation  150925 non-null  object \n",
      " 3   points       150925 non-null  int64  \n",
      " 4   price        137230 non-null  float64\n",
      " 5   province     150925 non-null  object \n",
      " 6   region_1     125870 non-null  object \n",
      " 7   region_2     60953 non-null   object \n",
      " 8   variety      150925 non-null  object \n",
      " 9   winery       150925 non-null  object \n",
      "dtypes: float64(1), int64(1), object(8)\n",
      "memory usage: 12.7+ MB\n",
      "<class 'pandas.core.frame.DataFrame'>\n",
      "Int64Index: 150925 entries, 0 to 150929\n",
      "Data columns (total 10 columns):\n",
      " #   Column       Non-Null Count   Dtype  \n",
      "---  ------       --------------   -----  \n",
      " 0   country      150925 non-null  object \n",
      " 1   description  150925 non-null  object \n",
      " 2   designation  150925 non-null  object \n",
      " 3   points       150925 non-null  int64  \n",
      " 4   price        137230 non-null  float64\n",
      " 5   province     150925 non-null  object \n",
      " 6   region_1     125870 non-null  object \n",
      " 7   region_2     60953 non-null   object \n",
      " 8   variety      150925 non-null  object \n",
      " 9   winery       150925 non-null  object \n",
      "dtypes: float64(1), int64(1), object(8)\n",
      "memory usage: 12.7+ MB\n"
     ]
    }
   ],
   "source": [
    "df2['designation'] = df2['designation'].fillna(df2['designation'].mode()[0])\n",
    "df2.info()"
   ]
  },
  {
   "cell_type": "markdown",
   "id": "9bb32fbd",
   "metadata": {},
   "source": [
    "2.3通过属性的相关关系来填补缺失值  \n",
    "\n",
    "通过points估计price的值，并进行填充"
   ]
  },
  {
   "cell_type": "code",
   "execution_count": 11,
   "id": "91544d94",
   "metadata": {},
   "outputs": [
    {
     "data": {
      "text/html": [
       "<div>\n",
       "<style scoped>\n",
       "    .dataframe tbody tr th:only-of-type {\n",
       "        vertical-align: middle;\n",
       "    }\n",
       "\n",
       "    .dataframe tbody tr th {\n",
       "        vertical-align: top;\n",
       "    }\n",
       "\n",
       "    .dataframe thead th {\n",
       "        text-align: right;\n",
       "    }\n",
       "</style>\n",
       "<table border=\"1\" class=\"dataframe\">\n",
       "  <thead>\n",
       "    <tr style=\"text-align: right;\">\n",
       "      <th></th>\n",
       "      <th>points</th>\n",
       "      <th>price</th>\n",
       "    </tr>\n",
       "  </thead>\n",
       "  <tbody>\n",
       "    <tr>\n",
       "      <th>points</th>\n",
       "      <td>1.000000</td>\n",
       "      <td>0.459869</td>\n",
       "    </tr>\n",
       "    <tr>\n",
       "      <th>price</th>\n",
       "      <td>0.459869</td>\n",
       "      <td>1.000000</td>\n",
       "    </tr>\n",
       "  </tbody>\n",
       "</table>\n",
       "</div>"
      ],
      "text/plain": [
       "          points     price\n",
       "points  1.000000  0.459869\n",
       "price   0.459869  1.000000"
      ]
     },
     "execution_count": 11,
     "metadata": {},
     "output_type": "execute_result"
    },
    {
     "data": {
      "text/html": [
       "<div>\n",
       "<style scoped>\n",
       "    .dataframe tbody tr th:only-of-type {\n",
       "        vertical-align: middle;\n",
       "    }\n",
       "\n",
       "    .dataframe tbody tr th {\n",
       "        vertical-align: top;\n",
       "    }\n",
       "\n",
       "    .dataframe thead th {\n",
       "        text-align: right;\n",
       "    }\n",
       "</style>\n",
       "<table border=\"1\" class=\"dataframe\">\n",
       "  <thead>\n",
       "    <tr style=\"text-align: right;\">\n",
       "      <th></th>\n",
       "      <th>points</th>\n",
       "      <th>price</th>\n",
       "    </tr>\n",
       "  </thead>\n",
       "  <tbody>\n",
       "    <tr>\n",
       "      <th>points</th>\n",
       "      <td>1.000000</td>\n",
       "      <td>0.459869</td>\n",
       "    </tr>\n",
       "    <tr>\n",
       "      <th>price</th>\n",
       "      <td>0.459869</td>\n",
       "      <td>1.000000</td>\n",
       "    </tr>\n",
       "  </tbody>\n",
       "</table>\n",
       "</div>"
      ],
      "text/plain": [
       "          points     price\n",
       "points  1.000000  0.459869\n",
       "price   0.459869  1.000000"
      ]
     },
     "execution_count": 11,
     "metadata": {},
     "output_type": "execute_result"
    }
   ],
   "source": [
    "df2.corr()"
   ]
  },
  {
   "cell_type": "code",
   "execution_count": 12,
   "id": "7bf7830b",
   "metadata": {},
   "outputs": [
    {
     "name": "stderr",
     "output_type": "stream",
     "text": [
      "C:\\Users\\HZJ\\AppData\\Local\\Temp/ipykernel_14724/559641533.py:8: SettingWithCopyWarning: \n",
      "A value is trying to be set on a copy of a slice from a DataFrame.\n",
      "Try using .loc[row_indexer,col_indexer] = value instead\n",
      "\n",
      "See the caveats in the documentation: https://pandas.pydata.org/pandas-docs/stable/user_guide/indexing.html#returning-a-view-versus-a-copy\n",
      "  df2[i-1:i]['price'] = price_pred[i]\n",
      "C:\\Users\\HZJ\\AppData\\Local\\Temp/ipykernel_14724/559641533.py:8: SettingWithCopyWarning: \n",
      "A value is trying to be set on a copy of a slice from a DataFrame.\n",
      "Try using .loc[row_indexer,col_indexer] = value instead\n",
      "\n",
      "See the caveats in the documentation: https://pandas.pydata.org/pandas-docs/stable/user_guide/indexing.html#returning-a-view-versus-a-copy\n",
      "  df2[i-1:i]['price'] = price_pred[i]\n"
     ]
    },
    {
     "name": "stdout",
     "output_type": "stream",
     "text": [
      "<class 'pandas.core.frame.DataFrame'>\n",
      "Int64Index: 150925 entries, 0 to 150929\n",
      "Data columns (total 10 columns):\n",
      " #   Column       Non-Null Count   Dtype  \n",
      "---  ------       --------------   -----  \n",
      " 0   country      150925 non-null  object \n",
      " 1   description  150925 non-null  object \n",
      " 2   designation  150925 non-null  object \n",
      " 3   points       150925 non-null  int64  \n",
      " 4   price        137230 non-null  float64\n",
      " 5   province     150925 non-null  object \n",
      " 6   region_1     125870 non-null  object \n",
      " 7   region_2     60953 non-null   object \n",
      " 8   variety      150925 non-null  object \n",
      " 9   winery       150925 non-null  object \n",
      "dtypes: float64(1), int64(1), object(8)\n",
      "memory usage: 12.7+ MB\n",
      "<class 'pandas.core.frame.DataFrame'>\n",
      "Int64Index: 150925 entries, 0 to 150929\n",
      "Data columns (total 10 columns):\n",
      " #   Column       Non-Null Count   Dtype  \n",
      "---  ------       --------------   -----  \n",
      " 0   country      150925 non-null  object \n",
      " 1   description  150925 non-null  object \n",
      " 2   designation  150925 non-null  object \n",
      " 3   points       150925 non-null  int64  \n",
      " 4   price        137230 non-null  float64\n",
      " 5   province     150925 non-null  object \n",
      " 6   region_1     125870 non-null  object \n",
      " 7   region_2     60953 non-null   object \n",
      " 8   variety      150925 non-null  object \n",
      " 9   winery       150925 non-null  object \n",
      "dtypes: float64(1), int64(1), object(8)\n",
      "memory usage: 12.7+ MB\n"
     ]
    }
   ],
   "source": [
    "from statsmodels.formula.api import ols\n",
    "df_del = df2.dropna(how=\"any\", subset=[\"price\"])\n",
    "points = df2[df2['price'].isnull()]['points']\n",
    "model = ols(\"price ~points\",data=df_del).fit()\n",
    "price_pred = model.predict(points)\n",
    "# 使用预测值填充空值\n",
    "for i in price_pred.keys():\n",
    "    df2[i-1:i]['price'] = price_pred[i]\n",
    "df2.info()"
   ]
  },
  {
   "cell_type": "markdown",
   "id": "e78c5a9d",
   "metadata": {},
   "source": [
    "2.4通过数据对象之间的相似性来填补缺失值  \n",
    "\n",
    "对于region_1,region_2，二者之间存在关联且和province存在关系  \n",
    "\n",
    "\n",
    "易知region_1缺失则region_2一定缺失，根据province填充region_1，根据region_1填充region_2"
   ]
  },
  {
   "cell_type": "code",
   "execution_count": 13,
   "id": "f99e3fcd",
   "metadata": {},
   "outputs": [
    {
     "name": "stdout",
     "output_type": "stream",
     "text": [
      "<class 'pandas.core.frame.DataFrame'>\n",
      "Int64Index: 0 entries\n",
      "Data columns (total 10 columns):\n",
      " #   Column       Non-Null Count  Dtype  \n",
      "---  ------       --------------  -----  \n",
      " 0   country      0 non-null      object \n",
      " 1   description  0 non-null      object \n",
      " 2   designation  0 non-null      object \n",
      " 3   points       0 non-null      int64  \n",
      " 4   price        0 non-null      float64\n",
      " 5   province     0 non-null      object \n",
      " 6   region_1     0 non-null      object \n",
      " 7   region_2     0 non-null      object \n",
      " 8   variety      0 non-null      object \n",
      " 9   winery       0 non-null      object \n",
      "dtypes: float64(1), int64(1), object(8)\n",
      "memory usage: 0.0+ bytes\n",
      "<class 'pandas.core.frame.DataFrame'>\n",
      "Int64Index: 0 entries\n",
      "Data columns (total 10 columns):\n",
      " #   Column       Non-Null Count  Dtype  \n",
      "---  ------       --------------  -----  \n",
      " 0   country      0 non-null      object \n",
      " 1   description  0 non-null      object \n",
      " 2   designation  0 non-null      object \n",
      " 3   points       0 non-null      int64  \n",
      " 4   price        0 non-null      float64\n",
      " 5   province     0 non-null      object \n",
      " 6   region_1     0 non-null      object \n",
      " 7   region_2     0 non-null      object \n",
      " 8   variety      0 non-null      object \n",
      " 9   winery       0 non-null      object \n",
      "dtypes: float64(1), int64(1), object(8)\n",
      "memory usage: 0.0+ bytes\n"
     ]
    }
   ],
   "source": [
    "df2[df2['region_1'].isnull() & df2['region_2'].notnull()].info()\n"
   ]
  },
  {
   "cell_type": "markdown",
   "id": "106f11ab",
   "metadata": {},
   "source": [
    "通过同省份的最大频率region_1填充缺失的region_1，若无法填充，则以province填充\n",
    "\n"
   ]
  },
  {
   "cell_type": "code",
   "execution_count": null,
   "id": "c4df765e",
   "metadata": {},
   "outputs": [
    {
     "name": "stderr",
     "output_type": "stream",
     "text": [
      "C:\\Users\\HZJ\\AppData\\Local\\Temp/ipykernel_14724/4126465307.py:8: SettingWithCopyWarning: \n",
      "A value is trying to be set on a copy of a slice from a DataFrame.\n",
      "Try using .loc[row_indexer,col_indexer] = value instead\n",
      "\n",
      "See the caveats in the documentation: https://pandas.pydata.org/pandas-docs/stable/user_guide/indexing.html#returning-a-view-versus-a-copy\n",
      "  df4['region_1'] = df4['region_1'].fillna(df5['region_1'].mode()[0])\n",
      "C:\\Users\\HZJ\\AppData\\Local\\Temp/ipykernel_14724/4126465307.py:8: SettingWithCopyWarning: \n",
      "A value is trying to be set on a copy of a slice from a DataFrame.\n",
      "Try using .loc[row_indexer,col_indexer] = value instead\n",
      "\n",
      "See the caveats in the documentation: https://pandas.pydata.org/pandas-docs/stable/user_guide/indexing.html#returning-a-view-versus-a-copy\n",
      "  df4['region_1'] = df4['region_1'].fillna(df5['region_1'].mode()[0])\n",
      "C:\\Users\\HZJ\\AppData\\Local\\Temp/ipykernel_14724/4126465307.py:8: SettingWithCopyWarning: \n",
      "A value is trying to be set on a copy of a slice from a DataFrame.\n",
      "Try using .loc[row_indexer,col_indexer] = value instead\n",
      "\n",
      "See the caveats in the documentation: https://pandas.pydata.org/pandas-docs/stable/user_guide/indexing.html#returning-a-view-versus-a-copy\n",
      "  df4['region_1'] = df4['region_1'].fillna(df5['region_1'].mode()[0])\n",
      "C:\\Users\\HZJ\\AppData\\Local\\Temp/ipykernel_14724/4126465307.py:8: SettingWithCopyWarning: \n",
      "A value is trying to be set on a copy of a slice from a DataFrame.\n",
      "Try using .loc[row_indexer,col_indexer] = value instead\n",
      "\n",
      "See the caveats in the documentation: https://pandas.pydata.org/pandas-docs/stable/user_guide/indexing.html#returning-a-view-versus-a-copy\n",
      "  df4['region_1'] = df4['region_1'].fillna(df5['region_1'].mode()[0])\n",
      "C:\\Users\\HZJ\\AppData\\Local\\Temp/ipykernel_14724/4126465307.py:8: SettingWithCopyWarning: \n",
      "A value is trying to be set on a copy of a slice from a DataFrame.\n",
      "Try using .loc[row_indexer,col_indexer] = value instead\n",
      "\n",
      "See the caveats in the documentation: https://pandas.pydata.org/pandas-docs/stable/user_guide/indexing.html#returning-a-view-versus-a-copy\n",
      "  df4['region_1'] = df4['region_1'].fillna(df5['region_1'].mode()[0])\n",
      "C:\\Users\\HZJ\\AppData\\Local\\Temp/ipykernel_14724/4126465307.py:8: SettingWithCopyWarning: \n",
      "A value is trying to be set on a copy of a slice from a DataFrame.\n",
      "Try using .loc[row_indexer,col_indexer] = value instead\n",
      "\n",
      "See the caveats in the documentation: https://pandas.pydata.org/pandas-docs/stable/user_guide/indexing.html#returning-a-view-versus-a-copy\n",
      "  df4['region_1'] = df4['region_1'].fillna(df5['region_1'].mode()[0])\n",
      "C:\\Users\\HZJ\\AppData\\Local\\Temp/ipykernel_14724/4126465307.py:8: SettingWithCopyWarning: \n",
      "A value is trying to be set on a copy of a slice from a DataFrame.\n",
      "Try using .loc[row_indexer,col_indexer] = value instead\n",
      "\n",
      "See the caveats in the documentation: https://pandas.pydata.org/pandas-docs/stable/user_guide/indexing.html#returning-a-view-versus-a-copy\n",
      "  df4['region_1'] = df4['region_1'].fillna(df5['region_1'].mode()[0])\n",
      "C:\\Users\\HZJ\\AppData\\Local\\Temp/ipykernel_14724/4126465307.py:8: SettingWithCopyWarning: \n",
      "A value is trying to be set on a copy of a slice from a DataFrame.\n",
      "Try using .loc[row_indexer,col_indexer] = value instead\n",
      "\n",
      "See the caveats in the documentation: https://pandas.pydata.org/pandas-docs/stable/user_guide/indexing.html#returning-a-view-versus-a-copy\n",
      "  df4['region_1'] = df4['region_1'].fillna(df5['region_1'].mode()[0])\n"
     ]
    }
   ],
   "source": [
    "dic = Counter(count('province',df2))\n",
    "for province in dic:\n",
    "    df3 = df2[df2['province']==province]\n",
    "    df4 = df3[df3['region_1'].isnull()]\n",
    "    if len(df4) > 0:\n",
    "        df5 = df3[df3['region_1'].notnull()]\n",
    "        if len(df5) > 0: \n",
    "            df4['region_1'] = df4['region_1'].fillna(df5['region_1'].mode()[0])\n",
    "        else:\n",
    "            df4['region_1'] = df4['region_1'].fillna(province)\n",
    "        df2.update(df4)\n",
    "df2.info()"
   ]
  },
  {
   "cell_type": "markdown",
   "id": "fc47e0f3",
   "metadata": {},
   "source": [
    "通过同region_1的最大频率region_2填充缺失的region_2，若无法填充，则以region_1填充\n",
    "\n"
   ]
  },
  {
   "cell_type": "code",
   "execution_count": null,
   "id": "d952cc91",
   "metadata": {},
   "outputs": [],
   "source": [
    "dic = Counter(count('region_1',df2))\n",
    "for region_1 in dic:\n",
    "    if region_1 =='nan':\n",
    "        continue\n",
    "    df3 = df2[df2['region_1']==region_1]\n",
    "    df4 = df3[df3['region_2'].isnull()]\n",
    "    if len(df4) > 0:\n",
    "        df5 = df3[df3['region_2'].notnull()]\n",
    "        if len(df5) > 0: \n",
    "            #print(region_1,df5['region_2'].mode()[0])\n",
    "            df4['region_2'] = df4['region_2'].fillna(df5['region_2'].mode()[0])\n",
    "        else:\n",
    "            df4['region_1'] = df4['region_1'].fillna(region_1)\n",
    "        df2.update(df4)\n",
    "df2.info()"
   ]
  },
  {
   "cell_type": "markdown",
   "id": "d7ea0f9e",
   "metadata": {},
   "source": [
    "# 3.新旧数据对比"
   ]
  },
  {
   "cell_type": "code",
   "execution_count": null,
   "id": "f309f447",
   "metadata": {},
   "outputs": [],
   "source": [
    "df2.info(),df.info()\n"
   ]
  },
  {
   "cell_type": "markdown",
   "id": "822f4207",
   "metadata": {},
   "source": [
    " Wine Reviews数据处理结束"
   ]
  },
  {
   "cell_type": "code",
   "execution_count": null,
   "id": "b65352ad",
   "metadata": {},
   "outputs": [],
   "source": []
  }
 ],
 "metadata": {
  "kernelspec": {
   "display_name": "hzj",
   "language": "python",
   "name": "hzj"
  },
  "language_info": {
   "codemirror_mode": {
    "name": "ipython",
    "version": 3
   },
   "file_extension": ".py",
   "mimetype": "text/x-python",
   "name": "python",
   "nbconvert_exporter": "python",
   "pygments_lexer": "ipython3",
   "version": "3.9.6"
  }
 },
 "nbformat": 4,
 "nbformat_minor": 5
}
